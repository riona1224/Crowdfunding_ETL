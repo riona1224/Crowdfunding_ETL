# Import dependencies
import pandas as pd
import numpy as np
pd.set_option('max_colwidth', 400)





# Read the data into a Pandas DataFrame
crowdfunding_info_df = pd.read_excel('Resources/crowdfunding.xlsx')
crowdfunding_info_df.head()


# Get a brief summary of the crowdfunding_info DataFrame.






# Get the crowdfunding_info_df columns.



# Assign the category and subcategory values to category and subcategory columns.



# Get the unique categories and subcategories in separate lists.


print(categories)
print(subcategories)


# Get the number of distinct values in the categories and subcategories lists.
print(len(categories))
print(len(subcategories))


# Create numpy arrays from 1-9 for the categories and 1-24 for the subcategories.
category_ids = np.arange(1, 10)
subcategory_ids = np.arange(1, 25)

print(category_ids)
print(subcategory_ids)


# Use a list comprehension to add "cat" to each category_id. 

# Use a list comprehension to add "subcat" to each subcategory_id.    

    
print(cat_ids)
print(scat_ids)


# Create a category DataFrame with the category_id array as the category_id and categories list as the category name.

# Create a category DataFrame with the subcategory_id array as the subcategory_id and subcategories list as the subcategory name. 



category_df


subcategory_df


# Export categories_df and subcategories_df as CSV files.
category_df.to_csv("Resources/category.csv", index=False)

subcategory_df.to_csv("Resources/subcategory.csv", index=False)





# Create a copy of the crowdfunding_info_df DataFrame name campaign_df. 
campaign_df = crowdfunding_info_df.copy()
campaign_df.head()


# Rename the blurb, launched_at, and deadline columns.



# Convert the goal and pledged columns to a `float` data type.



# Check the datatypes



# Format the launched_date and end_date columns to datetime format
from datetime import datetime as dt



# Merge the campaign_df with the category_df on the "category" column and 
# the subcategory_df on the "subcategory" column.


campaign_merged_df.tail(10)


# Drop unwanted columns



# Export the DataFrame as a CSV file. 
campaign_cleaned.to_csv("Resources/campaign.csv", index=False)





# Read the data into a Pandas DataFrame. Use the `header=2` parameter when reading in the data.
contact_info_df = pd.read_excel('Resources/contacts.xlsx', header=2)
contact_info_df.head()








# Iterate through the contact_info_df and convert each row to a dictionary.
import json
dict_values = []


# Print out the list of values for each row.
print(dict_values)


# Create a contact_info DataFrame and add each list of values, i.e., each row 
# to the 'contact_id', 'name', 'email' columns.



# Check the datatypes.



# Create a "first"name" and "last_name" column with the first and last names from the "name" column. 


# Drop the contact_name column




# Reorder the columns



# Check the datatypes one more time before exporting as CSV file.



# Export the DataFrame as a CSV file. 
contacts_df_clean.to_csv("Resources/contacts.csv", encoding='utf8', index=False)





contact_info_df_copy = contact_info_df.copy()
contact_info_df_copy.head()


# Extract the four-digit contact ID number.



# Check the datatypes.



# Convert the "contact_id" column to an int64 data type.



# Extract the name of the contact and add it to a new column.



# Extract the email from the contacts and add the values to a new column.



# Create a copy of the contact_info_df with the 'contact_id', 'name', 'email' columns.



# Create a "first"name" and "last_name" column with the first and last names from the "name" column. 


# Drop the contact_name column



# Reorder the columns



# Check the datatypes one more time before exporting as CSV file.



# Export the DataFrame as a CSV file. 
# contacts_df_clean.to_csv("Resources/contacts.csv", encoding='utf8', index=False)



